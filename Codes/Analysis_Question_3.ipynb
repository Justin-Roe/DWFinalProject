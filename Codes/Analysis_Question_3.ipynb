{
 "cells": [
  {
   "cell_type": "code",
   "execution_count": 1,
   "id": "f8a9fa01-7e58-4636-a2d6-3ebff99b4692",
   "metadata": {},
   "outputs": [],
   "source": [
    "import pandas as pd\n",
    "import numpy as np\n",
    "from scipy.stats import pearsonr, f_oneway\n",
    "from sklearn.linear_model import LogisticRegression\n",
    "from sklearn.model_selection import train_test_split\n",
    "from sklearn.metrics import accuracy_score, confusion_matrix, classification_report\n",
    "import matplotlib.pyplot as plt\n",
    "import seaborn as sns\n",
    "import statsmodels.api as sm\n",
    "from statsmodels.formula.api import ols"
   ]
  },
  {
   "cell_type": "markdown",
   "id": "666c7068-ddff-4d61-8fdd-c07749e89c6c",
   "metadata": {},
   "source": [
    "Question 3: What attributes of a movie (e.g., runtime, genre, budget) tend have the greatest impact on the IMDb rating according to this sample?"
   ]
  },
  {
   "cell_type": "code",
   "execution_count": 3,
   "id": "647b45c1-8fea-4adc-a43c-014ef381c10b",
   "metadata": {},
   "outputs": [
    {
     "data": {
      "text/html": [
       "<div>\n",
       "<style scoped>\n",
       "    .dataframe tbody tr th:only-of-type {\n",
       "        vertical-align: middle;\n",
       "    }\n",
       "\n",
       "    .dataframe tbody tr th {\n",
       "        vertical-align: top;\n",
       "    }\n",
       "\n",
       "    .dataframe thead th {\n",
       "        text-align: right;\n",
       "    }\n",
       "</style>\n",
       "<table border=\"1\" class=\"dataframe\">\n",
       "  <thead>\n",
       "    <tr style=\"text-align: right;\">\n",
       "      <th></th>\n",
       "      <th>Rank</th>\n",
       "      <th>Movie Title</th>\n",
       "      <th>Wins</th>\n",
       "      <th>Nominations</th>\n",
       "      <th>year</th>\n",
       "      <th>rating</th>\n",
       "      <th>genre</th>\n",
       "      <th>score</th>\n",
       "      <th>votes</th>\n",
       "      <th>country</th>\n",
       "      <th>budget</th>\n",
       "      <th>gross</th>\n",
       "      <th>company</th>\n",
       "      <th>runtime</th>\n",
       "    </tr>\n",
       "  </thead>\n",
       "  <tbody>\n",
       "    <tr>\n",
       "      <th>0</th>\n",
       "      <td>1</td>\n",
       "      <td>The Shawshank Redemption</td>\n",
       "      <td>21</td>\n",
       "      <td>42</td>\n",
       "      <td>1994</td>\n",
       "      <td>R</td>\n",
       "      <td>Drama</td>\n",
       "      <td>9.3</td>\n",
       "      <td>2400000.0</td>\n",
       "      <td>United States</td>\n",
       "      <td>25000000.0</td>\n",
       "      <td>2.881729e+07</td>\n",
       "      <td>Castle Rock Entertainment</td>\n",
       "      <td>142.0</td>\n",
       "    </tr>\n",
       "    <tr>\n",
       "      <th>1</th>\n",
       "      <td>3</td>\n",
       "      <td>The Dark Knight</td>\n",
       "      <td>164</td>\n",
       "      <td>165</td>\n",
       "      <td>2008</td>\n",
       "      <td>PG-13</td>\n",
       "      <td>Action</td>\n",
       "      <td>9.0</td>\n",
       "      <td>2400000.0</td>\n",
       "      <td>United States</td>\n",
       "      <td>185000000.0</td>\n",
       "      <td>1.005974e+09</td>\n",
       "      <td>Warner Bros.</td>\n",
       "      <td>152.0</td>\n",
       "    </tr>\n",
       "    <tr>\n",
       "      <th>2</th>\n",
       "      <td>6</td>\n",
       "      <td>The Lord of the Rings: The Return of the King</td>\n",
       "      <td>215</td>\n",
       "      <td>124</td>\n",
       "      <td>2003</td>\n",
       "      <td>PG-13</td>\n",
       "      <td>Action</td>\n",
       "      <td>8.9</td>\n",
       "      <td>1700000.0</td>\n",
       "      <td>New Zealand</td>\n",
       "      <td>94000000.0</td>\n",
       "      <td>1.146031e+09</td>\n",
       "      <td>New Line Cinema</td>\n",
       "      <td>201.0</td>\n",
       "    </tr>\n",
       "    <tr>\n",
       "      <th>3</th>\n",
       "      <td>7</td>\n",
       "      <td>Schindler's List</td>\n",
       "      <td>91</td>\n",
       "      <td>49</td>\n",
       "      <td>1993</td>\n",
       "      <td>R</td>\n",
       "      <td>Biography</td>\n",
       "      <td>8.9</td>\n",
       "      <td>1200000.0</td>\n",
       "      <td>United States</td>\n",
       "      <td>22000000.0</td>\n",
       "      <td>3.221612e+08</td>\n",
       "      <td>Universal Pictures</td>\n",
       "      <td>195.0</td>\n",
       "    </tr>\n",
       "    <tr>\n",
       "      <th>4</th>\n",
       "      <td>8</td>\n",
       "      <td>Pulp Fiction</td>\n",
       "      <td>69</td>\n",
       "      <td>72</td>\n",
       "      <td>1994</td>\n",
       "      <td>R</td>\n",
       "      <td>Crime</td>\n",
       "      <td>8.9</td>\n",
       "      <td>1900000.0</td>\n",
       "      <td>United States</td>\n",
       "      <td>8000000.0</td>\n",
       "      <td>2.139288e+08</td>\n",
       "      <td>Miramax</td>\n",
       "      <td>154.0</td>\n",
       "    </tr>\n",
       "    <tr>\n",
       "      <th>...</th>\n",
       "      <td>...</td>\n",
       "      <td>...</td>\n",
       "      <td>...</td>\n",
       "      <td>...</td>\n",
       "      <td>...</td>\n",
       "      <td>...</td>\n",
       "      <td>...</td>\n",
       "      <td>...</td>\n",
       "      <td>...</td>\n",
       "      <td>...</td>\n",
       "      <td>...</td>\n",
       "      <td>...</td>\n",
       "      <td>...</td>\n",
       "      <td>...</td>\n",
       "    </tr>\n",
       "    <tr>\n",
       "      <th>137</th>\n",
       "      <td>244</td>\n",
       "      <td>Into the Wild</td>\n",
       "      <td>13</td>\n",
       "      <td>6</td>\n",
       "      <td>2007</td>\n",
       "      <td>R</td>\n",
       "      <td>Adventure</td>\n",
       "      <td>8.1</td>\n",
       "      <td>588000.0</td>\n",
       "      <td>United States</td>\n",
       "      <td>15000000.0</td>\n",
       "      <td>5.667590e+07</td>\n",
       "      <td>Paramount Vantage</td>\n",
       "      <td>148.0</td>\n",
       "    </tr>\n",
       "    <tr>\n",
       "      <th>138</th>\n",
       "      <td>246</td>\n",
       "      <td>Groundhog Day</td>\n",
       "      <td>7</td>\n",
       "      <td>17</td>\n",
       "      <td>1993</td>\n",
       "      <td>PG</td>\n",
       "      <td>Comedy</td>\n",
       "      <td>8.0</td>\n",
       "      <td>589000.0</td>\n",
       "      <td>United States</td>\n",
       "      <td>14600000.0</td>\n",
       "      <td>7.107405e+07</td>\n",
       "      <td>Columbia Pictures</td>\n",
       "      <td>101.0</td>\n",
       "    </tr>\n",
       "    <tr>\n",
       "      <th>139</th>\n",
       "      <td>247</td>\n",
       "      <td>The Help</td>\n",
       "      <td>79</td>\n",
       "      <td>121</td>\n",
       "      <td>2011</td>\n",
       "      <td>PG-13</td>\n",
       "      <td>Drama</td>\n",
       "      <td>8.0</td>\n",
       "      <td>436000.0</td>\n",
       "      <td>United States</td>\n",
       "      <td>25000000.0</td>\n",
       "      <td>2.166391e+08</td>\n",
       "      <td>DreamWorks</td>\n",
       "      <td>146.0</td>\n",
       "    </tr>\n",
       "    <tr>\n",
       "      <th>140</th>\n",
       "      <td>248</td>\n",
       "      <td>Amores Perros</td>\n",
       "      <td>55</td>\n",
       "      <td>24</td>\n",
       "      <td>2000</td>\n",
       "      <td>R</td>\n",
       "      <td>Drama</td>\n",
       "      <td>8.1</td>\n",
       "      <td>228000.0</td>\n",
       "      <td>Mexico</td>\n",
       "      <td>2000000.0</td>\n",
       "      <td>2.090847e+07</td>\n",
       "      <td>Altavista Films</td>\n",
       "      <td>154.0</td>\n",
       "    </tr>\n",
       "    <tr>\n",
       "      <th>141</th>\n",
       "      <td>250</td>\n",
       "      <td>Drishyam</td>\n",
       "      <td>2</td>\n",
       "      <td>8</td>\n",
       "      <td>2015</td>\n",
       "      <td>Not Rated</td>\n",
       "      <td>Crime</td>\n",
       "      <td>8.2</td>\n",
       "      <td>75000.0</td>\n",
       "      <td>India</td>\n",
       "      <td>9400000.0</td>\n",
       "      <td>3.600000e+07</td>\n",
       "      <td>Panorama Studios</td>\n",
       "      <td>163.0</td>\n",
       "    </tr>\n",
       "  </tbody>\n",
       "</table>\n",
       "<p>142 rows × 14 columns</p>\n",
       "</div>"
      ],
      "text/plain": [
       "     Rank                                    Movie Title  Wins  Nominations  \\\n",
       "0       1                       The Shawshank Redemption    21           42   \n",
       "1       3                                The Dark Knight   164          165   \n",
       "2       6  The Lord of the Rings: The Return of the King   215          124   \n",
       "3       7                               Schindler's List    91           49   \n",
       "4       8                                   Pulp Fiction    69           72   \n",
       "..    ...                                            ...   ...          ...   \n",
       "137   244                                  Into the Wild    13            6   \n",
       "138   246                                  Groundhog Day     7           17   \n",
       "139   247                                       The Help    79          121   \n",
       "140   248                                  Amores Perros    55           24   \n",
       "141   250                                       Drishyam     2            8   \n",
       "\n",
       "     year     rating      genre  score      votes        country       budget  \\\n",
       "0    1994          R      Drama    9.3  2400000.0  United States   25000000.0   \n",
       "1    2008      PG-13     Action    9.0  2400000.0  United States  185000000.0   \n",
       "2    2003      PG-13     Action    8.9  1700000.0    New Zealand   94000000.0   \n",
       "3    1993          R  Biography    8.9  1200000.0  United States   22000000.0   \n",
       "4    1994          R      Crime    8.9  1900000.0  United States    8000000.0   \n",
       "..    ...        ...        ...    ...        ...            ...          ...   \n",
       "137  2007          R  Adventure    8.1   588000.0  United States   15000000.0   \n",
       "138  1993         PG     Comedy    8.0   589000.0  United States   14600000.0   \n",
       "139  2011      PG-13      Drama    8.0   436000.0  United States   25000000.0   \n",
       "140  2000          R      Drama    8.1   228000.0         Mexico    2000000.0   \n",
       "141  2015  Not Rated      Crime    8.2    75000.0          India    9400000.0   \n",
       "\n",
       "            gross                    company  runtime  \n",
       "0    2.881729e+07  Castle Rock Entertainment    142.0  \n",
       "1    1.005974e+09               Warner Bros.    152.0  \n",
       "2    1.146031e+09            New Line Cinema    201.0  \n",
       "3    3.221612e+08         Universal Pictures    195.0  \n",
       "4    2.139288e+08                    Miramax    154.0  \n",
       "..            ...                        ...      ...  \n",
       "137  5.667590e+07          Paramount Vantage    148.0  \n",
       "138  7.107405e+07          Columbia Pictures    101.0  \n",
       "139  2.166391e+08                 DreamWorks    146.0  \n",
       "140  2.090847e+07            Altavista Films    154.0  \n",
       "141  3.600000e+07           Panorama Studios    163.0  \n",
       "\n",
       "[142 rows x 14 columns]"
      ]
     },
     "metadata": {},
     "output_type": "display_data"
    }
   ],
   "source": [
    "# Load CSV\n",
    "df = pd.read_csv(\"juroe_project_proposal.csv\", encoding = \"UTF-8\")\n",
    "display(df)"
   ]
  },
  {
   "cell_type": "code",
   "execution_count": 4,
   "id": "018160e1-fcd3-4719-9eef-beead7febadc",
   "metadata": {},
   "outputs": [
    {
     "name": "stdout",
     "output_type": "stream",
     "text": [
      "Pearson Correlation - Runtime vs Score: r=0.3680, p=0.0000\n",
      "Pearson Correlation - Budget vs Score: r=0.1115, p=0.1863\n"
     ]
    }
   ],
   "source": [
    "# Pearson Correlation: Runtime and Budget vs IMDb Rating\n",
    "runtime_corr, runtime_p = pearsonr(df['runtime'], df['score'])\n",
    "budget_corr, budget_p = pearsonr(df['budget'], df['score'])\n",
    "print(f\"Pearson Correlation - Runtime vs Score: r={runtime_corr:.4f}, p={runtime_p:.4f}\")\n",
    "print(f\"Pearson Correlation - Budget vs Score: r={budget_corr:.4f}, p={budget_p:.4f}\")"
   ]
  },
  {
   "cell_type": "code",
   "execution_count": 5,
   "id": "f3aedbc5-5b2c-4157-81d8-f45bdf7361ba",
   "metadata": {},
   "outputs": [
    {
     "name": "stdout",
     "output_type": "stream",
     "text": [
      "ANOVA Test on Genres: stat=0.6406, p=0.7216\n"
     ]
    }
   ],
   "source": [
    "# ANOVA Test: Genre Impact on IMDb Rating\n",
    "genres = df['genre'].unique()\n",
    "genre_groups = [df[df['genre'] == genre]['score'] for genre in genres if len(df[df['genre'] == genre]) > 1]\n",
    "stat, p = f_oneway(*genre_groups)\n",
    "print(f\"ANOVA Test on Genres: stat={stat:.4f}, p={p:.4f}\")"
   ]
  },
  {
   "cell_type": "code",
   "execution_count": 6,
   "id": "f1b5c508-0be1-4760-811c-865fd0eefabe",
   "metadata": {},
   "outputs": [
    {
     "name": "stdout",
     "output_type": "stream",
     "text": [
      "            sum_sq     df        F   PR(>F)\n",
      "genre     0.306235    8.0  0.66235  0.72376\n",
      "Residual  7.686511  133.0      NaN      NaN\n",
      "P-value: 0.72375956\n",
      "Fail to reject H0: No significant difference in average IMDb ratings across genres.\n"
     ]
    }
   ],
   "source": [
    "# ANOVA Test: Genre Impact on IMDb Rating using statsmodels\n",
    "fit = ols(\"score ~ genre\", data=df).fit()\n",
    "anova_table = sm.stats.anova_lm(fit, typ=2)\n",
    "print(anova_table)\n",
    "\n",
    "# Extract and interpret the p-value\n",
    "p_value = anova_table[\"PR(>F)\"].iloc[0]\n",
    "print(f\"P-value: {p_value:.8f}\")\n",
    "\n",
    "alpha = 0.05\n",
    "if p_value < alpha:\n",
    "    print(\"Reject H0: The average IMDb ratings are significantly different across genres.\")\n",
    "else:\n",
    "    print(\"Fail to reject H0: No significant difference in average IMDb ratings across genres.\")"
   ]
  },
  {
   "cell_type": "code",
   "execution_count": 7,
   "id": "58587a80-6ac0-4230-9291-842370c451ed",
   "metadata": {},
   "outputs": [
    {
     "data": {
      "image/png": "[encoded data removed]",
      "text/plain": [
       "<Figure size 1200x600 with 1 Axes>"
      ]
     },
     "metadata": {},
     "output_type": "display_data"
    }
   ],
   "source": [
    "# Visualization: IMDb Rating by Genre\n",
    "plt.figure(figsize=(12, 6))\n",
    "sns.boxplot(x='genre', y='score', data=df)\n",
    "plt.xticks(rotation=90)\n",
    "plt.xlabel(\"Genre\")\n",
    "plt.ylabel(\"IMDb Score\")\n",
    "plt.title('IMDb Score Distribution by Genre')\n",
    "plt.show()"
   ]
  },
  {
   "cell_type": "markdown",
   "id": "7acba4b8-9212-41e2-a4e4-63c28e115a45",
   "metadata": {},
   "source": [
    "### Machine Learning: Logistic Regression"
   ]
  },
  {
   "cell_type": "code",
   "execution_count": 9,
   "id": "6a4fcf36-cad4-4132-9b6f-873c46f64e5b",
   "metadata": {},
   "outputs": [
    {
     "name": "stdout",
     "output_type": "stream",
     "text": [
      "Mean IMDb score: 8.32\n"
     ]
    }
   ],
   "source": [
    "# Create a binary target: 1 if score >= mean of scores, else 0\n",
    "mean_score = df['score'].mean()\n",
    "df['high_score'] = (df['score'] >= mean_score).astype(int)\n",
    "print(f\"Mean IMDb score: {mean_score:.2f}\")"
   ]
  },
  {
   "cell_type": "code",
   "execution_count": 10,
   "id": "48933e05-07cb-4ecb-a11c-9d26fff9086f",
   "metadata": {},
   "outputs": [
    {
     "data": {
      "text/html": [
       "<style>#sk-container-id-1 {color: black;}#sk-container-id-1 pre{padding: 0;}#sk-container-id-1 div.sk-toggleable {background-color: white;}#sk-container-id-1 label.sk-toggleable__label {cursor: pointer;display: block;width: 100%;margin-bottom: 0;padding: 0.3em;box-sizing: border-box;text-align: center;}#sk-container-id-1 label.sk-toggleable__label-arrow:before {content: \"▸\";float: left;margin-right: 0.25em;color: #696969;}#sk-container-id-1 label.sk-toggleable__label-arrow:hover:before {color: black;}#sk-container-id-1 div.sk-estimator:hover label.sk-toggleable__label-arrow:before {color: black;}#sk-container-id-1 div.sk-toggleable__content {max-height: 0;max-width: 0;overflow: hidden;text-align: left;background-color: #f0f8ff;}#sk-container-id-1 div.sk-toggleable__content pre {margin: 0.2em;color: black;border-radius: 0.25em;background-color: #f0f8ff;}#sk-container-id-1 input.sk-toggleable__control:checked~div.sk-toggleable__content {max-height: 200px;max-width: 100%;overflow: auto;}#sk-container-id-1 input.sk-toggleable__control:checked~label.sk-toggleable__label-arrow:before {content: \"▾\";}#sk-container-id-1 div.sk-estimator input.sk-toggleable__control:checked~label.sk-toggleable__label {background-color: #d4ebff;}#sk-container-id-1 div.sk-label input.sk-toggleable__control:checked~label.sk-toggleable__label {background-color: #d4ebff;}#sk-container-id-1 input.sk-hidden--visually {border: 0;clip: rect(1px 1px 1px 1px);clip: rect(1px, 1px, 1px, 1px);height: 1px;margin: -1px;overflow: hidden;padding: 0;position: absolute;width: 1px;}#sk-container-id-1 div.sk-estimator {font-family: monospace;background-color: #f0f8ff;border: 1px dotted black;border-radius: 0.25em;box-sizing: border-box;margin-bottom: 0.5em;}#sk-container-id-1 div.sk-estimator:hover {background-color: #d4ebff;}#sk-container-id-1 div.sk-parallel-item::after {content: \"\";width: 100%;border-bottom: 1px solid gray;flex-grow: 1;}#sk-container-id-1 div.sk-label:hover label.sk-toggleable__label {background-color: #d4ebff;}#sk-container-id-1 div.sk-serial::before {content: \"\";position: absolute;border-left: 1px solid gray;box-sizing: border-box;top: 0;bottom: 0;left: 50%;z-index: 0;}#sk-container-id-1 div.sk-serial {display: flex;flex-direction: column;align-items: center;background-color: white;padding-right: 0.2em;padding-left: 0.2em;position: relative;}#sk-container-id-1 div.sk-item {position: relative;z-index: 1;}#sk-container-id-1 div.sk-parallel {display: flex;align-items: stretch;justify-content: center;background-color: white;position: relative;}#sk-container-id-1 div.sk-item::before, #sk-container-id-1 div.sk-parallel-item::before {content: \"\";position: absolute;border-left: 1px solid gray;box-sizing: border-box;top: 0;bottom: 0;left: 50%;z-index: -1;}#sk-container-id-1 div.sk-parallel-item {display: flex;flex-direction: column;z-index: 1;position: relative;background-color: white;}#sk-container-id-1 div.sk-parallel-item:first-child::after {align-self: flex-end;width: 50%;}#sk-container-id-1 div.sk-parallel-item:last-child::after {align-self: flex-start;width: 50%;}#sk-container-id-1 div.sk-parallel-item:only-child::after {width: 0;}#sk-container-id-1 div.sk-dashed-wrapped {border: 1px dashed gray;margin: 0 0.4em 0.5em 0.4em;box-sizing: border-box;padding-bottom: 0.4em;background-color: white;}#sk-container-id-1 div.sk-label label {font-family: monospace;font-weight: bold;display: inline-block;line-height: 1.2em;}#sk-container-id-1 div.sk-label-container {text-align: center;}#sk-container-id-1 div.sk-container {/* jupyter's `normalize.less` sets `[hidden] { display: none; }` but bootstrap.min.css set `[hidden] { display: none !important; }` so we also need the `!important` here to be able to override the default hidden behavior on the sphinx rendered scikit-learn.org. See: https://github.com/scikit-learn/scikit-learn/issues/21755 */display: inline-block !important;position: relative;}#sk-container-id-1 div.sk-text-repr-fallback {display: none;}</style><div id=\"sk-container-id-1\" class=\"sk-top-container\"><div class=\"sk-text-repr-fallback\"><pre>LogisticRegression(max_iter=1000)</pre><b>In a Jupyter environment, please rerun this cell to show the HTML representation or trust the notebook. <br />On GitHub, the HTML representation is unable to render, please try loading this page with nbviewer.org.</b></div><div class=\"sk-container\" hidden><div class=\"sk-item\"><div class=\"sk-estimator sk-toggleable\"><input class=\"sk-toggleable__control sk-hidden--visually\" id=\"sk-estimator-id-1\" type=\"checkbox\" checked><label for=\"sk-estimator-id-1\" class=\"sk-toggleable__label sk-toggleable__label-arrow\">LogisticRegression</label><div class=\"sk-toggleable__content\"><pre>LogisticRegression(max_iter=1000)</pre></div></div></div></div></div>"
      ],
      "text/plain": [
       "LogisticRegression(max_iter=1000)"
      ]
     },
     "execution_count": 10,
     "metadata": {},
     "output_type": "execute_result"
    }
   ],
   "source": [
    "# Make dummy variables for 'rating' and the train/test split for the logistic regression\n",
    "df = pd.get_dummies(df, columns=['rating'], drop_first=True)\n",
    "    \n",
    "X = df.drop(columns=['Rank', 'Movie Title', 'Wins', 'Nominations', 'year', 'genre', 'score', 'votes', 'country', 'gross', 'company', 'high_score'], errors='ignore')\n",
    "y = df['high_score']\n",
    "\n",
    "X_train, X_test, y_train, y_test = train_test_split(X, y, test_size=0.3, random_state=42)\n",
    "\n",
    "log_reg = LogisticRegression(max_iter=1000)\n",
    "log_reg.fit(X_train, y_train)"
   ]
  },
  {
   "cell_type": "code",
   "execution_count": 11,
   "id": "e419f8ec-5fca-46a5-aef8-91960d5796ab",
   "metadata": {},
   "outputs": [
    {
     "name": "stdout",
     "output_type": "stream",
     "text": [
      "Accuracy: 0.3953488372093023\n"
     ]
    }
   ],
   "source": [
    "# Evaluate\n",
    "y_pred = log_reg.predict(X_test)\n",
    "print(\"Accuracy:\", accuracy_score(y_test, y_pred))"
   ]
  },
  {
   "cell_type": "code",
   "execution_count": 12,
   "id": "27c4967a-b653-4e57-be0d-24d776d28fa3",
   "metadata": {},
   "outputs": [
    {
     "data": {
      "image/png": "[encoded data removed]",
      "text/plain": [
       "<Figure size 600x400 with 2 Axes>"
      ]
     },
     "metadata": {},
     "output_type": "display_data"
    },
    {
     "name": "stdout",
     "output_type": "stream",
     "text": [
      "Classification Report:\n",
      "               precision    recall  f1-score   support\n",
      "\n",
      "           0       0.00      0.00      0.00        26\n",
      "           1       0.40      1.00      0.57        17\n",
      "\n",
      "    accuracy                           0.40        43\n",
      "   macro avg       0.20      0.50      0.28        43\n",
      "weighted avg       0.16      0.40      0.22        43\n",
      "\n"
     ]
    },
    {
     "name": "stderr",
     "output_type": "stream",
     "text": [
      "C:\\Users\\Justin Roe\\anaconda3\\Lib\\site-packages\\sklearn\\metrics\\_classification.py:1469: UndefinedMetricWarning: Precision and F-score are ill-defined and being set to 0.0 in labels with no predicted samples. Use `zero_division` parameter to control this behavior.\n",
      "  _warn_prf(average, modifier, msg_start, len(result))\n",
      "C:\\Users\\Justin Roe\\anaconda3\\Lib\\site-packages\\sklearn\\metrics\\_classification.py:1469: UndefinedMetricWarning: Precision and F-score are ill-defined and being set to 0.0 in labels with no predicted samples. Use `zero_division` parameter to control this behavior.\n",
      "  _warn_prf(average, modifier, msg_start, len(result))\n",
      "C:\\Users\\Justin Roe\\anaconda3\\Lib\\site-packages\\sklearn\\metrics\\_classification.py:1469: UndefinedMetricWarning: Precision and F-score are ill-defined and being set to 0.0 in labels with no predicted samples. Use `zero_division` parameter to control this behavior.\n",
      "  _warn_prf(average, modifier, msg_start, len(result))\n"
     ]
    }
   ],
   "source": [
    "# Visualize Confusion Matrix\n",
    "plt.figure(figsize=(6, 4))\n",
    "sns.heatmap(confusion_matrix(y_test, y_pred), annot=True, fmt='d', cmap='Blues', \n",
    "            xticklabels=['Low Score', 'High Score'], yticklabels=['Low Score', 'High Score'])\n",
    "plt.xlabel('Predicted')\n",
    "plt.ylabel('Actual')\n",
    "plt.title('Confusion Matrix')\n",
    "plt.show()\n",
    "print(\"Classification Report:\\n\", classification_report(y_test, y_pred))"
   ]
  },
  {
   "cell_type": "code",
   "execution_count": 13,
   "id": "7714b794-83d1-4fb7-8355-970e7405209b",
   "metadata": {},
   "outputs": [
    {
     "data": {
      "image/png": "[encoded data removed]",
      "text/plain": [
       "<Figure size 640x480 with 1 Axes>"
      ]
     },
     "metadata": {},
     "output_type": "display_data"
    }
   ],
   "source": [
    "probs = log_reg.predict_proba(X_test)[:, 1]\n",
    "plt.hist(probs, bins=20)\n",
    "plt.title(\"Predicted Probabilities for High Score\")\n",
    "plt.xlabel(\"Probability\")\n",
    "plt.ylabel(\"Count\")\n",
    "plt.grid(True)\n",
    "plt.show()"
   ]
  },
  {
   "cell_type": "markdown",
   "id": "d1c8331d-0e40-4142-b571-f05b10c7bd3a",
   "metadata": {},
   "source": [
    "Conclusion: A movie's runtime (in minutes), rating (PG,PG-13, R, etc), and budget (amount spent to make the movie) do not have a strong relationship with a movie's IMDb rating within the current setup. The model's output is stuck in a \"gray area\" — not strongly biased, but also not informative. This could in part be due to the small sample size. Additionally, due to the data being pulled from IMDB's Top 250 Movies, there is not much variation in IMDb score as all scores are relatively high. Perhaps a larger dataset and more variety within the IMDb scores would allow a stronger relationship for any of the variables used."
   ]
  }
 ],
 "metadata": {
  "kernelspec": {
   "display_name": "Python 3 (ipykernel)",
   "language": "python",
   "name": "python3"
  },
  "language_info": {
   "codemirror_mode": {
    "name": "ipython",
    "version": 3
   },
   "file_extension": ".py",
   "mimetype": "text/x-python",
   "name": "python",
   "nbconvert_exporter": "python",
   "pygments_lexer": "ipython3",
   "version": "3.12.4"
  }
 },
 "nbformat": 4,
 "nbformat_minor": 5
}
